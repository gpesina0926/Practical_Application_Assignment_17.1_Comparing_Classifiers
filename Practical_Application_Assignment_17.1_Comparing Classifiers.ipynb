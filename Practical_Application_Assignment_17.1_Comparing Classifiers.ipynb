{
 "cells": [
  {
   "cell_type": "raw",
   "id": "66212f26-dd2d-420c-a2be-331634ba0667",
   "metadata": {},
   "source": [
    "Assignment Overview:\n",
    "The goal is to compare the performance of the classifiers (k-nearest neighbors, logistic regression, decision trees, and support vector machines) encountered in this section of the program. Will use a dataset related to the marketing of bank products over the telephone.\n",
    "\n",
    "Data:\n",
    "he data is from a Portuguese banking institution and is a collection of the results of multiple marketing campaigns. Data originates from the UCI Machine Learning Repository. \n",
    "\n",
    "Deliverables:\n",
    "After understanding, preparing, and modeling the data, build a Jupyter Notebook that includes a clear statement demonstrating an understanding of the business problem, a correct and concise interpretation of descriptive and inferential statistics, findings (including actionable insights), and next steps and recommendations."
   ]
  },
  {
   "cell_type": "raw",
   "id": "d8c066ca-3a1e-4d06-80b4-5b495605347a",
   "metadata": {},
   "source": [
    "Data Understanding and Cleaning:\n",
    "Business Problem - Describe the significance of identifying customers who respond positively to marketing campaigns.\n",
    "Data Cleaning - Handle any missing values, outliers, and appropriate feature transformations.\n",
    "\n",
    "Exploratory Data Analysis:\n",
    "Descriptive statistics - Provide an overview of customer attributes and response rates using measures like mean, median, mode, and proportions.\n",
    "Visualizations - Develop charts for categorical (e.g., job, marital status) and continuous variables (e.g., age, balance).\n",
    "Visualization Features - Add readable titles, labels, and consider subplots for different variable groups.\n",
    "\n",
    "Modeling with Four Classifiers:\n",
    "Model Training - Train k-nearest neighbors, logistic regression, decision trees, and support vector machines on the prepared dataset.\n",
    "Evaluation Metrics - Provide accuracy, precision, recall, F1 score, and ROC-AUC to help evaluate each model.\n",
    "Model Comparison - Summarize model performance metrics, analyzing which model works best for this business context.\n",
    "\n",
    "Findings and Recommendations:\n",
    "Interpret Findings - Present summary, with recommendations on improving campaign outcomes.\n"
   ]
  },
  {
   "cell_type": "code",
   "execution_count": 26,
   "id": "5e00fe9a-ee0e-433a-adf4-ad7a3fd9ee31",
   "metadata": {},
   "outputs": [],
   "source": [
    "import pandas as pd\n",
    "import numpy as np\n",
    "from sklearn.model_selection import train_test_split, cross_val_score\n",
    "from sklearn.neighbors import KNeighborsClassifier\n",
    "from sklearn.linear_model import LogisticRegression\n",
    "from sklearn.tree import DecisionTreeClassifier\n",
    "from sklearn.svm import SVC\n",
    "from sklearn.metrics import classification_report, confusion_matrix, accuracy_score\n",
    "import seaborn as sns\n",
    "import matplotlib.pyplot as plt"
   ]
  },
  {
   "cell_type": "code",
   "execution_count": 27,
   "id": "bdc62e4c-7365-4e3a-8c3f-bca42971c6bf",
   "metadata": {},
   "outputs": [],
   "source": [
    "from sklearn.model_selection import train_test_split\n",
    "from sklearn.neighbors import KNeighborsClassifier\n",
    "from sklearn.linear_model import LogisticRegression\n",
    "from sklearn.tree import DecisionTreeClassifier\n",
    "from sklearn.svm import SVC\n",
    "from sklearn.metrics import accuracy_score, precision_score, recall_score, f1_score, roc_auc_score"
   ]
  },
  {
   "cell_type": "code",
   "execution_count": 28,
   "id": "7f618606-bac6-4997-b844-14ba90ae38eb",
   "metadata": {},
   "outputs": [],
   "source": [
    "file_path = 'c:/Users/gregp/Desktop/bank.csv'"
   ]
  },
  {
   "cell_type": "code",
   "execution_count": 30,
   "id": "c20feb03-8dd5-48b2-acbe-0d1ba96a89c6",
   "metadata": {},
   "outputs": [],
   "source": [
    "data = pd.read_csv('c:/Users/gregp/Desktop/bank.csv',delimiter=\";\")"
   ]
  },
  {
   "cell_type": "markdown",
   "id": "39686a63-9935-4697-bccb-d1322ce70a50",
   "metadata": {},
   "source": [
    "# Display basic information about the Dataset"
   ]
  },
  {
   "cell_type": "code",
   "execution_count": 31,
   "id": "46542d7e-5e25-4be2-bd70-d54cc4ff7010",
   "metadata": {},
   "outputs": [
    {
     "name": "stdout",
     "output_type": "stream",
     "text": [
      "<class 'pandas.core.frame.DataFrame'>\n",
      "RangeIndex: 4521 entries, 0 to 4520\n",
      "Data columns (total 17 columns):\n",
      " #   Column     Non-Null Count  Dtype \n",
      "---  ------     --------------  ----- \n",
      " 0   age        4521 non-null   int64 \n",
      " 1   job        4521 non-null   object\n",
      " 2   marital    4521 non-null   object\n",
      " 3   education  4521 non-null   object\n",
      " 4   default    4521 non-null   object\n",
      " 5   balance    4521 non-null   int64 \n",
      " 6   housing    4521 non-null   object\n",
      " 7   loan       4521 non-null   object\n",
      " 8   contact    4521 non-null   object\n",
      " 9   day        4521 non-null   int64 \n",
      " 10  month      4521 non-null   object\n",
      " 11  duration   4521 non-null   int64 \n",
      " 12  campaign   4521 non-null   int64 \n",
      " 13  pdays      4521 non-null   int64 \n",
      " 14  previous   4521 non-null   int64 \n",
      " 15  poutcome   4521 non-null   object\n",
      " 16  y          4521 non-null   object\n",
      "dtypes: int64(7), object(10)\n",
      "memory usage: 600.6+ KB\n"
     ]
    }
   ],
   "source": [
    "bank_data_info = data.info()\n",
    "bank_data_head = data.head()"
   ]
  },
  {
   "cell_type": "code",
   "execution_count": 32,
   "id": "e7fe8a37-140d-4bcb-becd-170222544a03",
   "metadata": {},
   "outputs": [
    {
     "data": {
      "text/plain": [
       "(None,\n",
       "       age            job  marital  education default  balance housing loan  \\\n",
       " 0      30     unemployed  married    primary      no     1787      no   no   \n",
       " 1      33       services  married  secondary      no     4789     yes  yes   \n",
       " 2      35     management   single   tertiary      no     1350     yes   no   \n",
       " 3      30     management  married   tertiary      no     1476     yes  yes   \n",
       " 4      59    blue-collar  married  secondary      no        0     yes   no   \n",
       " ...   ...            ...      ...        ...     ...      ...     ...  ...   \n",
       " 4516   33       services  married  secondary      no     -333     yes   no   \n",
       " 4517   57  self-employed  married   tertiary     yes    -3313     yes  yes   \n",
       " 4518   57     technician  married  secondary      no      295      no   no   \n",
       " 4519   28    blue-collar  married  secondary      no     1137      no   no   \n",
       " 4520   44   entrepreneur   single   tertiary      no     1136     yes  yes   \n",
       " \n",
       "        contact  day month  duration  campaign  pdays  previous poutcome   y  \n",
       " 0     cellular   19   oct        79         1     -1         0  unknown  no  \n",
       " 1     cellular   11   may       220         1    339         4  failure  no  \n",
       " 2     cellular   16   apr       185         1    330         1  failure  no  \n",
       " 3      unknown    3   jun       199         4     -1         0  unknown  no  \n",
       " 4      unknown    5   may       226         1     -1         0  unknown  no  \n",
       " ...        ...  ...   ...       ...       ...    ...       ...      ...  ..  \n",
       " 4516  cellular   30   jul       329         5     -1         0  unknown  no  \n",
       " 4517   unknown    9   may       153         1     -1         0  unknown  no  \n",
       " 4518  cellular   19   aug       151        11     -1         0  unknown  no  \n",
       " 4519  cellular    6   feb       129         4    211         3    other  no  \n",
       " 4520  cellular    3   apr       345         2    249         7    other  no  \n",
       " \n",
       " [4521 rows x 17 columns])"
      ]
     },
     "execution_count": 32,
     "metadata": {},
     "output_type": "execute_result"
    }
   ],
   "source": [
    "bank_data_info, data"
   ]
  },
  {
   "cell_type": "markdown",
   "id": "65559d58-089b-4334-8255-1d8244925774",
   "metadata": {},
   "source": [
    "# Check for missing values"
   ]
  },
  {
   "cell_type": "code",
   "execution_count": 33,
   "id": "063b9e4d-5808-4a36-8d06-f27f28b0a94d",
   "metadata": {},
   "outputs": [
    {
     "data": {
      "text/plain": [
       "(age          0\n",
       " job          0\n",
       " marital      0\n",
       " education    0\n",
       " default      0\n",
       " balance      0\n",
       " housing      0\n",
       " loan         0\n",
       " contact      0\n",
       " day          0\n",
       " month        0\n",
       " duration     0\n",
       " campaign     0\n",
       " pdays        0\n",
       " previous     0\n",
       " poutcome     0\n",
       " y            0\n",
       " dtype: int64,\n",
       " age           int64\n",
       " job          object\n",
       " marital      object\n",
       " education    object\n",
       " default      object\n",
       " balance       int64\n",
       " housing      object\n",
       " loan         object\n",
       " contact      object\n",
       " day           int64\n",
       " month        object\n",
       " duration      int64\n",
       " campaign      int64\n",
       " pdays         int64\n",
       " previous      int64\n",
       " poutcome     object\n",
       " y            object\n",
       " dtype: object)"
      ]
     },
     "execution_count": 33,
     "metadata": {},
     "output_type": "execute_result"
    }
   ],
   "source": [
    "missing_values = data.isnull().sum()\n",
    "data_types = data.dtypes\n",
    "\n",
    "missing_values, data_types"
   ]
  },
  {
   "cell_type": "markdown",
   "id": "e3157032-3efd-4777-8f27-50293b10e9e0",
   "metadata": {},
   "source": [
    "# Check for unique values in categories"
   ]
  },
  {
   "cell_type": "code",
   "execution_count": 34,
   "id": "8bb24de3-ceff-4719-9052-ea92b650539e",
   "metadata": {},
   "outputs": [
    {
     "data": {
      "text/plain": [
       "{'job': array(['unemployed', 'services', 'management', 'blue-collar',\n",
       "        'self-employed', 'technician', 'entrepreneur', 'admin.', 'student',\n",
       "        'housemaid', 'retired', 'unknown'], dtype=object),\n",
       " 'marital': array(['married', 'single', 'divorced'], dtype=object),\n",
       " 'education': array(['primary', 'secondary', 'tertiary', 'unknown'], dtype=object),\n",
       " 'default': array(['no', 'yes'], dtype=object),\n",
       " 'housing': array(['no', 'yes'], dtype=object),\n",
       " 'loan': array(['no', 'yes'], dtype=object),\n",
       " 'contact': array(['cellular', 'unknown', 'telephone'], dtype=object),\n",
       " 'month': array(['oct', 'may', 'apr', 'jun', 'feb', 'aug', 'jan', 'jul', 'nov',\n",
       "        'sep', 'mar', 'dec'], dtype=object),\n",
       " 'poutcome': array(['unknown', 'failure', 'other', 'success'], dtype=object),\n",
       " 'y': array(['no', 'yes'], dtype=object)}"
      ]
     },
     "execution_count": 34,
     "metadata": {},
     "output_type": "execute_result"
    }
   ],
   "source": [
    "categorical_columns = data.select_dtypes(include=['object']).columns\n",
    "unique_values = {col: data[col].unique() for col in categorical_columns}\n",
    "\n",
    "unique_values"
   ]
  },
  {
   "cell_type": "markdown",
   "id": "5d68fb31-ce3c-4ee0-982c-fb759a95c8b6",
   "metadata": {},
   "source": [
    "# Binary encoding for simple 'yes'/'no' categories"
   ]
  },
  {
   "cell_type": "code",
   "execution_count": 35,
   "id": "51d40543-1338-428d-b8c5-e97095083253",
   "metadata": {},
   "outputs": [
    {
     "data": {
      "text/html": [
       "<div>\n",
       "<style scoped>\n",
       "    .dataframe tbody tr th:only-of-type {\n",
       "        vertical-align: middle;\n",
       "    }\n",
       "\n",
       "    .dataframe tbody tr th {\n",
       "        vertical-align: top;\n",
       "    }\n",
       "\n",
       "    .dataframe thead th {\n",
       "        text-align: right;\n",
       "    }\n",
       "</style>\n",
       "<table border=\"1\" class=\"dataframe\">\n",
       "  <thead>\n",
       "    <tr style=\"text-align: right;\">\n",
       "      <th></th>\n",
       "      <th>default</th>\n",
       "      <th>housing</th>\n",
       "      <th>loan</th>\n",
       "      <th>y</th>\n",
       "    </tr>\n",
       "  </thead>\n",
       "  <tbody>\n",
       "    <tr>\n",
       "      <th>0</th>\n",
       "      <td>0</td>\n",
       "      <td>0</td>\n",
       "      <td>0</td>\n",
       "      <td>0</td>\n",
       "    </tr>\n",
       "    <tr>\n",
       "      <th>1</th>\n",
       "      <td>0</td>\n",
       "      <td>1</td>\n",
       "      <td>1</td>\n",
       "      <td>0</td>\n",
       "    </tr>\n",
       "    <tr>\n",
       "      <th>2</th>\n",
       "      <td>0</td>\n",
       "      <td>1</td>\n",
       "      <td>0</td>\n",
       "      <td>0</td>\n",
       "    </tr>\n",
       "    <tr>\n",
       "      <th>3</th>\n",
       "      <td>0</td>\n",
       "      <td>1</td>\n",
       "      <td>1</td>\n",
       "      <td>0</td>\n",
       "    </tr>\n",
       "    <tr>\n",
       "      <th>4</th>\n",
       "      <td>0</td>\n",
       "      <td>1</td>\n",
       "      <td>0</td>\n",
       "      <td>0</td>\n",
       "    </tr>\n",
       "  </tbody>\n",
       "</table>\n",
       "</div>"
      ],
      "text/plain": [
       "   default  housing  loan  y\n",
       "0        0        0     0  0\n",
       "1        0        1     1  0\n",
       "2        0        1     0  0\n",
       "3        0        1     1  0\n",
       "4        0        1     0  0"
      ]
     },
     "execution_count": 35,
     "metadata": {},
     "output_type": "execute_result"
    }
   ],
   "source": [
    "binary_mappings = {\"no\": 0, \"yes\": 1}\n",
    "data['default'] = data['default'].map(binary_mappings)\n",
    "data['housing'] = data['housing'].map(binary_mappings)\n",
    "data['loan'] = data['loan'].map(binary_mappings)\n",
    "data['y'] = data['y'].map(binary_mappings)\n",
    "\n",
    "binary_encoded_summary = data[['default', 'housing', 'loan', 'y']].head()\n",
    "\n",
    "binary_encoded_summary"
   ]
  },
  {
   "cell_type": "markdown",
   "id": "9fd97092-1fbf-4c1f-ae0e-7401a4e6f869",
   "metadata": {},
   "source": [
    "# Checking the count of 'unknown' entries in relevant columns"
   ]
  },
  {
   "cell_type": "code",
   "execution_count": 36,
   "id": "0ee8bad9-c304-428e-91a7-c2e14841b9c2",
   "metadata": {},
   "outputs": [
    {
     "data": {
      "text/plain": [
       "({'job': 38, 'education': 187, 'contact': 1324, 'poutcome': 3705},\n",
       " 0    10\n",
       " 1     5\n",
       " 2     4\n",
       " 3     6\n",
       " 4     5\n",
       " Name: month, dtype: int64)"
      ]
     },
     "execution_count": 36,
     "metadata": {},
     "output_type": "execute_result"
    }
   ],
   "source": [
    "unknown_counts = {col: data[col].value_counts().get('unknown', 0) for col in ['job', 'education', 'contact', 'poutcome']}\n",
    "\n",
    "month_order = ['jan', 'feb', 'mar', 'apr', 'may', 'jun', 'jul', 'aug', 'sep', 'oct', 'nov', 'dec']\n",
    "\n",
    "data['month'] = data['month'].apply(lambda x: month_order.index(x) + 1)\n",
    "\n",
    "unknown_counts, data['month'].head()"
   ]
  },
  {
   "cell_type": "markdown",
   "id": "7a69d20b-8933-4f25-92ca-4c93d34495d9",
   "metadata": {},
   "source": [
    "# Apply one-hot encoding to categorical variables while retaining 'unknown' as a category"
   ]
  },
  {
   "cell_type": "code",
   "execution_count": 38,
   "id": "d2d452e5-7809-4f27-9999-a32862b8aa1b",
   "metadata": {},
   "outputs": [
    {
     "name": "stdout",
     "output_type": "stream",
     "text": [
      "<class 'pandas.core.frame.DataFrame'>\n",
      "RangeIndex: 4521 entries, 0 to 4520\n",
      "Data columns (total 33 columns):\n",
      " #   Column               Non-Null Count  Dtype\n",
      "---  ------               --------------  -----\n",
      " 0   age                  4521 non-null   int64\n",
      " 1   default              4521 non-null   int64\n",
      " 2   balance              4521 non-null   int64\n",
      " 3   housing              4521 non-null   int64\n",
      " 4   loan                 4521 non-null   int64\n",
      " 5   day                  4521 non-null   int64\n",
      " 6   month                4521 non-null   int64\n",
      " 7   duration             4521 non-null   int64\n",
      " 8   campaign             4521 non-null   int64\n",
      " 9   pdays                4521 non-null   int64\n",
      " 10  previous             4521 non-null   int64\n",
      " 11  y                    4521 non-null   int64\n",
      " 12  job_blue-collar      4521 non-null   bool \n",
      " 13  job_entrepreneur     4521 non-null   bool \n",
      " 14  job_housemaid        4521 non-null   bool \n",
      " 15  job_management       4521 non-null   bool \n",
      " 16  job_retired          4521 non-null   bool \n",
      " 17  job_self-employed    4521 non-null   bool \n",
      " 18  job_services         4521 non-null   bool \n",
      " 19  job_student          4521 non-null   bool \n",
      " 20  job_technician       4521 non-null   bool \n",
      " 21  job_unemployed       4521 non-null   bool \n",
      " 22  job_unknown          4521 non-null   bool \n",
      " 23  marital_married      4521 non-null   bool \n",
      " 24  marital_single       4521 non-null   bool \n",
      " 25  education_secondary  4521 non-null   bool \n",
      " 26  education_tertiary   4521 non-null   bool \n",
      " 27  education_unknown    4521 non-null   bool \n",
      " 28  contact_telephone    4521 non-null   bool \n",
      " 29  contact_unknown      4521 non-null   bool \n",
      " 30  poutcome_other       4521 non-null   bool \n",
      " 31  poutcome_success     4521 non-null   bool \n",
      " 32  poutcome_unknown     4521 non-null   bool \n",
      "dtypes: bool(21), int64(12)\n",
      "memory usage: 516.7 KB\n"
     ]
    },
    {
     "data": {
      "text/plain": [
       "(None,\n",
       "    age  default  balance  housing  loan  day  month  duration  campaign  \\\n",
       " 0   30        0     1787        0     0   19     10        79         1   \n",
       " 1   33        0     4789        1     1   11      5       220         1   \n",
       " 2   35        0     1350        1     0   16      4       185         1   \n",
       " 3   30        0     1476        1     1    3      6       199         4   \n",
       " 4   59        0        0        1     0    5      5       226         1   \n",
       " \n",
       "    pdays  ...  marital_married  marital_single  education_secondary  \\\n",
       " 0     -1  ...             True           False                False   \n",
       " 1    339  ...             True           False                 True   \n",
       " 2    330  ...            False            True                False   \n",
       " 3     -1  ...             True           False                False   \n",
       " 4     -1  ...             True           False                 True   \n",
       " \n",
       "    education_tertiary  education_unknown  contact_telephone  contact_unknown  \\\n",
       " 0               False              False              False            False   \n",
       " 1               False              False              False            False   \n",
       " 2                True              False              False            False   \n",
       " 3                True              False              False             True   \n",
       " 4               False              False              False             True   \n",
       " \n",
       "    poutcome_other  poutcome_success  poutcome_unknown  \n",
       " 0           False             False              True  \n",
       " 1           False             False             False  \n",
       " 2           False             False             False  \n",
       " 3           False             False              True  \n",
       " 4           False             False              True  \n",
       " \n",
       " [5 rows x 33 columns])"
      ]
     },
     "execution_count": 38,
     "metadata": {},
     "output_type": "execute_result"
    }
   ],
   "source": [
    "categorical_features = ['job', 'marital', 'education', 'contact', 'poutcome']\n",
    "data_encoded = pd.get_dummies(data, columns=categorical_features, drop_first=True)\n",
    "\n",
    "data_encoded_info = data_encoded.info()\n",
    "data_encoded_head = data_encoded.head()\n",
    "\n",
    "data_encoded_info, data_encoded_head"
   ]
  },
  {
   "cell_type": "code",
   "execution_count": 39,
   "id": "51669ce8-575e-41d9-b79d-96ecda610edf",
   "metadata": {},
   "outputs": [],
   "source": [
    "from sklearn.model_selection import train_test_split\n",
    "from sklearn.preprocessing import StandardScaler\n",
    "from sklearn.metrics import accuracy_score, precision_score, recall_score, f1_score\n",
    "from sklearn.neighbors import KNeighborsClassifier\n",
    "from sklearn.linear_model import LogisticRegression\n",
    "from sklearn.tree import DecisionTreeClassifier\n",
    "from sklearn.svm import SVC"
   ]
  },
  {
   "cell_type": "markdown",
   "id": "634b3e8e-24e1-4d3e-9eb9-abed0174d4ea",
   "metadata": {},
   "source": [
    "# Seperate features and target vakue"
   ]
  },
  {
   "cell_type": "code",
   "execution_count": 41,
   "id": "7d9f442a-31ce-4232-ba5d-773eca5d576d",
   "metadata": {},
   "outputs": [],
   "source": [
    "X = data_encoded.drop('y', axis=1)\n",
    "y = data_encoded['y']"
   ]
  },
  {
   "cell_type": "markdown",
   "id": "b807f128-4858-4b7d-829c-c630ec7ac2fa",
   "metadata": {},
   "source": [
    "# Split the data into training and test sets (80-20 split)"
   ]
  },
  {
   "cell_type": "code",
   "execution_count": 42,
   "id": "2cbaf04b-06d8-4759-a05a-cad07e79d88e",
   "metadata": {},
   "outputs": [],
   "source": [
    "X_train, X_test, y_train, y_test = train_test_split(X, y, test_size=0.2, random_state=42)"
   ]
  },
  {
   "cell_type": "markdown",
   "id": "d72454fd-6c23-4993-9aa3-d86c8a013108",
   "metadata": {},
   "source": [
    "# Stabdardize the data (necessary for kNN and SVM)"
   ]
  },
  {
   "cell_type": "code",
   "execution_count": 43,
   "id": "b37f01d5-ec6b-4a8b-91f2-ff3d312cc224",
   "metadata": {},
   "outputs": [],
   "source": [
    "scaler = StandardScaler()\n",
    "X_train = scaler.fit_transform(X_train)\n",
    "X_test = scaler.transform(X_test)"
   ]
  },
  {
   "cell_type": "markdown",
   "id": "314ef5aa-3ef9-4dd7-8cd0-bd5c8879a9e2",
   "metadata": {},
   "source": [
    "# Dictionary to store the results of each model"
   ]
  },
  {
   "cell_type": "code",
   "execution_count": 44,
   "id": "43e2474a-ea85-4b64-b8c3-f056c7a22c87",
   "metadata": {},
   "outputs": [],
   "source": [
    "results = {}"
   ]
  },
  {
   "cell_type": "markdown",
   "id": "6ae33a4b-4519-4e64-a87c-f22da881b822",
   "metadata": {},
   "source": [
    "# Function to evaluate and store model performance metrics"
   ]
  },
  {
   "cell_type": "code",
   "execution_count": 45,
   "id": "b3067c30-f3b3-47a4-8c5c-aca39a20c401",
   "metadata": {},
   "outputs": [],
   "source": [
    "def evaluate_model(name, model, X_test, y_test):\n",
    "    y_pred = model.predict(X_test)\n",
    "    results[name] = {\n",
    "        'Accuracy': accuracy_score(y_test, y_pred),\n",
    "        'Precision': precision_score(y_test, y_pred),\n",
    "        'Recall': recall_score(y_test, y_pred),\n",
    "        'F1 Score': f1_score(y_test, y_pred)\n",
    "    }"
   ]
  },
  {
   "cell_type": "markdown",
   "id": "a22eb022-0f3d-4979-8af1-72253554945a",
   "metadata": {},
   "source": [
    "# 1. k-Nearest Neighbors Classifier"
   ]
  },
  {
   "cell_type": "code",
   "execution_count": 46,
   "id": "f8fb0deb-767b-4f88-8c54-c13775ae81c0",
   "metadata": {},
   "outputs": [],
   "source": [
    "knn = KNeighborsClassifier(n_neighbors=5)\n",
    "knn.fit(X_train, y_train)\n",
    "evaluate_model('kNN', knn, X_test, y_test)"
   ]
  },
  {
   "cell_type": "markdown",
   "id": "955dd4f9-f15c-4594-8279-d9d4c61d53d9",
   "metadata": {},
   "source": [
    "# 2. Logistic Regression Classifier"
   ]
  },
  {
   "cell_type": "code",
   "execution_count": 47,
   "id": "5b91b6ae-9ddd-49dd-b6fe-6a515667e39a",
   "metadata": {},
   "outputs": [],
   "source": [
    "log_reg = LogisticRegression(random_state=42, max_iter=1000)\n",
    "log_reg.fit(X_train, y_train)\n",
    "evaluate_model('Logistic Regression', log_reg, X_test, y_test)"
   ]
  },
  {
   "cell_type": "markdown",
   "id": "47dfd146-ec92-4b5a-a534-229425745ad6",
   "metadata": {},
   "source": [
    "# 3. Decision Tree Classifier"
   ]
  },
  {
   "cell_type": "code",
   "execution_count": 48,
   "id": "36545ce3-75f0-4459-98ba-b7474b52bb39",
   "metadata": {},
   "outputs": [],
   "source": [
    "decision_tree = DecisionTreeClassifier(random_state=42)\n",
    "decision_tree.fit(X_train, y_train)\n",
    "evaluate_model('Decision Tree', decision_tree, X_test, y_test)"
   ]
  },
  {
   "cell_type": "markdown",
   "id": "6ebe7eae-db29-42c3-ba9e-16a4c34b4cb1",
   "metadata": {},
   "source": [
    "# 4. Support Vector Machine Classifier"
   ]
  },
  {
   "cell_type": "code",
   "execution_count": 49,
   "id": "01475aea-7505-42cc-b80d-b9295bbe33bd",
   "metadata": {},
   "outputs": [],
   "source": [
    "svm = SVC(kernel='linear', random_state=42)\n",
    "svm.fit(X_train, y_train)\n",
    "evaluate_model('SVM', svm, X_test, y_test)"
   ]
  },
  {
   "cell_type": "markdown",
   "id": "f5941fc8-844e-471d-8fc5-33be34072c86",
   "metadata": {},
   "source": [
    "# Display the results of each model"
   ]
  },
  {
   "cell_type": "code",
   "execution_count": 51,
   "id": "831469f5-1d78-45a1-be1b-1cf96299fe86",
   "metadata": {},
   "outputs": [
    {
     "name": "stdout",
     "output_type": "stream",
     "text": [
      "                     Accuracy  Precision    Recall  F1 Score\n",
      "kNN                  0.886188   0.435897  0.173469  0.248175\n",
      "Logistic Regression  0.900552   0.590909  0.265306  0.366197\n",
      "Decision Tree        0.865193   0.386792  0.418367  0.401961\n",
      "SVM                  0.895028   0.565217  0.132653  0.214876\n"
     ]
    }
   ],
   "source": [
    "print(results_df)"
   ]
  },
  {
   "cell_type": "code",
   "execution_count": 52,
   "id": "fcc2fe26-2597-44db-be48-59f5fde2ae1d",
   "metadata": {},
   "outputs": [
    {
     "data": {
      "text/html": [
       "<div>\n",
       "<style scoped>\n",
       "    .dataframe tbody tr th:only-of-type {\n",
       "        vertical-align: middle;\n",
       "    }\n",
       "\n",
       "    .dataframe tbody tr th {\n",
       "        vertical-align: top;\n",
       "    }\n",
       "\n",
       "    .dataframe thead th {\n",
       "        text-align: right;\n",
       "    }\n",
       "</style>\n",
       "<table border=\"1\" class=\"dataframe\">\n",
       "  <thead>\n",
       "    <tr style=\"text-align: right;\">\n",
       "      <th></th>\n",
       "      <th>Accuracy</th>\n",
       "      <th>Precision</th>\n",
       "      <th>Recall</th>\n",
       "      <th>F1 Score</th>\n",
       "    </tr>\n",
       "  </thead>\n",
       "  <tbody>\n",
       "    <tr>\n",
       "      <th>kNN</th>\n",
       "      <td>0.886188</td>\n",
       "      <td>0.435897</td>\n",
       "      <td>0.173469</td>\n",
       "      <td>0.248175</td>\n",
       "    </tr>\n",
       "    <tr>\n",
       "      <th>Logistic Regression</th>\n",
       "      <td>0.900552</td>\n",
       "      <td>0.590909</td>\n",
       "      <td>0.265306</td>\n",
       "      <td>0.366197</td>\n",
       "    </tr>\n",
       "    <tr>\n",
       "      <th>Decision Tree</th>\n",
       "      <td>0.865193</td>\n",
       "      <td>0.386792</td>\n",
       "      <td>0.418367</td>\n",
       "      <td>0.401961</td>\n",
       "    </tr>\n",
       "    <tr>\n",
       "      <th>SVM</th>\n",
       "      <td>0.895028</td>\n",
       "      <td>0.565217</td>\n",
       "      <td>0.132653</td>\n",
       "      <td>0.214876</td>\n",
       "    </tr>\n",
       "  </tbody>\n",
       "</table>\n",
       "</div>"
      ],
      "text/plain": [
       "                     Accuracy  Precision    Recall  F1 Score\n",
       "kNN                  0.886188   0.435897  0.173469  0.248175\n",
       "Logistic Regression  0.900552   0.590909  0.265306  0.366197\n",
       "Decision Tree        0.865193   0.386792  0.418367  0.401961\n",
       "SVM                  0.895028   0.565217  0.132653  0.214876"
      ]
     },
     "execution_count": 52,
     "metadata": {},
     "output_type": "execute_result"
    }
   ],
   "source": [
    "results_df"
   ]
  },
  {
   "cell_type": "markdown",
   "id": "7fb0d937-249e-4bc8-837a-b4cc6a4ca7ed",
   "metadata": {},
   "source": [
    "Summary of Differences:\n",
    "> Performance - kNN achieved moderate accuracy and lower precision, recall, and F1 scores compared to other models.\n",
    "> Performance - Logistic Regression showed strong accuracy and F1 score, with higher precision than kNN, indicating it’s better at identifying likely  \n",
    "  responders without a high false positive rate.\n",
    "> Performance - Decision Tree provided good recall, suggesting it’s able to capture many of the actual positives (responders) in the data, but with \n",
    "  lower precision than Logistic Regression. \n",
    "> Performance - SVM showed competitive accuracy but generally lower recall compared to Decision Tree, which suggests it may be less sensitive to \n",
    "  capturing all responders."
   ]
  },
  {
   "cell_type": "code",
   "execution_count": 56,
   "id": "1400c145-aa0f-4b45-8272-f87cea65c6e4",
   "metadata": {},
   "outputs": [],
   "source": [
    "from scipy.stats import chi2_contingency, ttest_ind"
   ]
  },
  {
   "cell_type": "code",
   "execution_count": 57,
   "id": "bcabd77f-d7ea-429c-a30c-d50f960a3771",
   "metadata": {},
   "outputs": [],
   "source": [
    "# Separate responders and non-responders for comparison in t-tests\n",
    "responders = data[data['y'] == 1]\n",
    "non_responders = data[data['y'] == 0]"
   ]
  },
  {
   "cell_type": "code",
   "execution_count": 58,
   "id": "71de8811-6ab9-4f42-839b-ab7833b27e36",
   "metadata": {},
   "outputs": [],
   "source": [
    "# Dictionary to store p-values for t-tests and chi-squared tests\n",
    "inferential_results = {}"
   ]
  },
  {
   "cell_type": "code",
   "execution_count": 59,
   "id": "06bbbbec-8bc1-40c6-a029-0d20427a2d71",
   "metadata": {},
   "outputs": [],
   "source": [
    "# 1. Perform t-tests for continuous variables\n",
    "continuous_vars = ['age', 'balance', 'duration', 'campaign', 'pdays', 'previous']\n",
    "for var in continuous_vars:\n",
    "    t_stat, p_val = ttest_ind(responders[var], non_responders[var], equal_var=False)\n",
    "    inferential_results[f\"t-test_{var}\"] = p_val"
   ]
  },
  {
   "cell_type": "code",
   "execution_count": 60,
   "id": "c0d519f1-7da3-4035-bd0f-5a193ef76659",
   "metadata": {},
   "outputs": [],
   "source": [
    "# 2. Perform chi-squared tests for categorical variables\n",
    "categorical_vars = ['job', 'marital', 'education', 'default', 'housing', 'loan', 'contact', 'poutcome']\n",
    "for var in categorical_vars:\n",
    "    contingency_table = pd.crosstab(data[var], data['y'])\n",
    "    chi2, p_val, _, _ = chi2_contingency(contingency_table)\n",
    "    inferential_results[f\"chi2_{var}\"] = p_val"
   ]
  },
  {
   "cell_type": "code",
   "execution_count": 61,
   "id": "21af10ef-3e8b-4a08-91c3-490bcc9e403a",
   "metadata": {},
   "outputs": [
    {
     "data": {
      "text/html": [
       "<div>\n",
       "<style scoped>\n",
       "    .dataframe tbody tr th:only-of-type {\n",
       "        vertical-align: middle;\n",
       "    }\n",
       "\n",
       "    .dataframe tbody tr th {\n",
       "        vertical-align: top;\n",
       "    }\n",
       "\n",
       "    .dataframe thead th {\n",
       "        text-align: right;\n",
       "    }\n",
       "</style>\n",
       "<table border=\"1\" class=\"dataframe\">\n",
       "  <thead>\n",
       "    <tr style=\"text-align: right;\">\n",
       "      <th></th>\n",
       "      <th>Test</th>\n",
       "      <th>p-value</th>\n",
       "    </tr>\n",
       "  </thead>\n",
       "  <tbody>\n",
       "    <tr>\n",
       "      <th>0</th>\n",
       "      <td>t-test_age</td>\n",
       "      <td>1.259757e-02</td>\n",
       "    </tr>\n",
       "    <tr>\n",
       "      <th>1</th>\n",
       "      <td>t-test_balance</td>\n",
       "      <td>1.517785e-01</td>\n",
       "    </tr>\n",
       "    <tr>\n",
       "      <th>2</th>\n",
       "      <td>t-test_duration</td>\n",
       "      <td>3.605790e-61</td>\n",
       "    </tr>\n",
       "    <tr>\n",
       "      <th>3</th>\n",
       "      <td>t-test_campaign</td>\n",
       "      <td>1.806963e-08</td>\n",
       "    </tr>\n",
       "    <tr>\n",
       "      <th>4</th>\n",
       "      <td>t-test_pdays</td>\n",
       "      <td>7.030619e-09</td>\n",
       "    </tr>\n",
       "    <tr>\n",
       "      <th>5</th>\n",
       "      <td>t-test_previous</td>\n",
       "      <td>8.458377e-11</td>\n",
       "    </tr>\n",
       "    <tr>\n",
       "      <th>6</th>\n",
       "      <td>chi2_job</td>\n",
       "      <td>1.901391e-10</td>\n",
       "    </tr>\n",
       "    <tr>\n",
       "      <th>7</th>\n",
       "      <td>chi2_marital</td>\n",
       "      <td>7.373535e-05</td>\n",
       "    </tr>\n",
       "    <tr>\n",
       "      <th>8</th>\n",
       "      <td>chi2_education</td>\n",
       "      <td>1.625240e-03</td>\n",
       "    </tr>\n",
       "    <tr>\n",
       "      <th>9</th>\n",
       "      <td>chi2_default</td>\n",
       "      <td>1.000000e+00</td>\n",
       "    </tr>\n",
       "    <tr>\n",
       "      <th>10</th>\n",
       "      <td>chi2_housing</td>\n",
       "      <td>2.714700e-12</td>\n",
       "    </tr>\n",
       "    <tr>\n",
       "      <th>11</th>\n",
       "      <td>chi2_loan</td>\n",
       "      <td>2.914829e-06</td>\n",
       "    </tr>\n",
       "    <tr>\n",
       "      <th>12</th>\n",
       "      <td>chi2_contact</td>\n",
       "      <td>8.304301e-20</td>\n",
       "    </tr>\n",
       "    <tr>\n",
       "      <th>13</th>\n",
       "      <td>chi2_poutcome</td>\n",
       "      <td>1.539883e-83</td>\n",
       "    </tr>\n",
       "  </tbody>\n",
       "</table>\n",
       "</div>"
      ],
      "text/plain": [
       "               Test       p-value\n",
       "0        t-test_age  1.259757e-02\n",
       "1    t-test_balance  1.517785e-01\n",
       "2   t-test_duration  3.605790e-61\n",
       "3   t-test_campaign  1.806963e-08\n",
       "4      t-test_pdays  7.030619e-09\n",
       "5   t-test_previous  8.458377e-11\n",
       "6          chi2_job  1.901391e-10\n",
       "7      chi2_marital  7.373535e-05\n",
       "8    chi2_education  1.625240e-03\n",
       "9      chi2_default  1.000000e+00\n",
       "10     chi2_housing  2.714700e-12\n",
       "11        chi2_loan  2.914829e-06\n",
       "12     chi2_contact  8.304301e-20\n",
       "13    chi2_poutcome  1.539883e-83"
      ]
     },
     "execution_count": 61,
     "metadata": {},
     "output_type": "execute_result"
    }
   ],
   "source": [
    "# Convert results to a DataFrame for readability\n",
    "inferential_results_df = pd.DataFrame(list(inferential_results.items()), columns=['Test', 'p-value'])\n",
    "inferential_results_df"
   ]
  },
  {
   "cell_type": "markdown",
   "id": "523edff8-eaef-4bdb-8ada-90e6eda6b42c",
   "metadata": {},
   "source": [
    "Summary of Inference:\n",
    "Continuous Variables - Variables like duration, campaign, and recent contact metrics (e.g., pdays, previous) are critical, indicating that recent, engaging interactions strongly influence responses.\n",
    "\n",
    "Categorical Variables - Key categories like job, marital status, education, and previous outcomes provide insight into customer segments likely to respond positively, which can guide targeted campaign efforts."
   ]
  },
  {
   "cell_type": "code",
   "execution_count": 63,
   "id": "b6b50920-4d8a-41ff-bde6-268bd1150686",
   "metadata": {},
   "outputs": [
    {
     "data": {
      "image/png": "[encoded data removed]",
      "text/plain": [
       "<Figure size 800x600 with 1 Axes>"
      ]
     },
     "metadata": {},
     "output_type": "display_data"
    },
    {
     "data": {
      "image/png": "[encoded data removed]",
      "text/plain": [
       "<Figure size 800x600 with 1 Axes>"
      ]
     },
     "metadata": {},
     "output_type": "display_data"
    },
    {
     "data": {
      "image/png": "[encoded data removed]",
      "text/plain": [
       "<Figure size 800x600 with 1 Axes>"
      ]
     },
     "metadata": {},
     "output_type": "display_data"
    },
    {
     "data": {
      "image/png": "[encoded data removed]",
      "text/plain": [
       "<Figure size 800x600 with 1 Axes>"
      ]
     },
     "metadata": {},
     "output_type": "display_data"
    }
   ],
   "source": [
    "import matplotlib.pyplot as plt\n",
    "\n",
    "# List of metrics to plot\n",
    "metrics = ['Accuracy', 'Precision', 'Recall', 'F1 Score']\n",
    "\n",
    "# Plot each metric in a separate bar chart\n",
    "for metric in metrics:\n",
    "    plt.figure(figsize=(8, 6))\n",
    "    plt.bar(results_df.index, results_df[metric])\n",
    "    plt.title(f\"{metric} Comparison Across Models\")\n",
    "    plt.xlabel(\"Model\")\n",
    "    plt.ylabel(metric)\n",
    "    plt.ylim(0, 1)\n",
    "    plt.show()"
   ]
  },
  {
   "cell_type": "markdown",
   "id": "a30f9353-87ff-4252-8141-6adf7c9df0f4",
   "metadata": {},
   "source": [
    "# Summary of model suitability"
   ]
  },
  {
   "cell_type": "raw",
   "id": "8de18a5f-9246-4306-8aba-e8bd0a72eec8",
   "metadata": {},
   "source": [
    "Accuracy is a general measure of the models performance, showing the overall success rate. It’s intuitive but can be misleading with imbalanced data. For example, if only 10% of customers respond positively, a model that always predicts \"no response\" could still be 90% accurate without capturing true responders."
   ]
  },
  {
   "cell_type": "raw",
   "id": "3858ae98-ad37-425b-a383-170316c5b4af",
   "metadata": {},
   "source": [
    "Precision is crucial when the cost of a false positive (predicting response when there isn’t one) is high. In marketing, high precision means that when the model predicts a customer will respond, it’s often correct. This reduces wasted efforts on customers unlikely to respond, optimizing resources."
   ]
  },
  {
   "cell_type": "raw",
   "id": "20e2853f-fd1c-4df7-a49b-c7212431d1b1",
   "metadata": {},
   "source": [
    "Recall is valuable when the cost of missing actual positives (responders) is high. In marketing, the high recall means that most actual responders are identified by the model, ensuring a larger reach. However, high recall may include more false positives, which could dilute efforts."
   ]
  },
  {
   "cell_type": "raw",
   "id": "f9c922e2-9b8f-4696-b6d8-128bc475dd5c",
   "metadata": {},
   "source": [
    "F1 score is helpful for evaluating models with imbalanced data, like the marketing responses, as it balances precision and recall. A higher F1 score is suggesting a model that captures responders accurately while minimizing false positives, making it useful for situations where both false positives and false negatives are important."
   ]
  },
  {
   "cell_type": "markdown",
   "id": "ba0e7127-4de9-43a8-b5ce-a5672eff7a4c",
   "metadata": {},
   "source": [
    "# Actionable Insights:"
   ]
  },
  {
   "cell_type": "raw",
   "id": "b796a84e-e4dd-41f5-9038-80d89dae1207",
   "metadata": {},
   "source": [
    "The strong association of duration (call length) with positive responses suggests that longer, engaging conversations increase the likelihood of customer interest. This implies that training agents to engage customers meaningfully rather than rushing through calls could be beneficial.\n",
    "\n",
    "The variables pdays (days since last contact) and previous (number of previous contacts) are significant predictors. Recent and consistent interactions can positively impact responses, indicating that a proactive follow-up strategy with recent contacts may yield better results.\n",
    "\n",
    "Certain occupations and education levels are more receptive to the campaign, so future marketing efforts could focus on these segments. For example, targeting specific professions (like management or services) with tailored messaging could improve response rates.\n",
    "\n",
    "The variable poutcome (previous campaign outcome) is highly predictive of future responses. Customers who responded positively in the past are more likely to respond again, suggesting that prioritizing previously successful customers in new campaigns could increase success rates."
   ]
  },
  {
   "cell_type": "markdown",
   "id": "ec9b2ac9-a0c3-43dd-a0b4-605ec478f641",
   "metadata": {},
   "source": [
    "# Next Steps:"
   ]
  },
  {
   "cell_type": "raw",
   "id": "e1bdc105-fdb6-43e9-8e4b-20997037e4c3",
   "metadata": {},
   "source": [
    "Based on insights from job type, education, and past response data, refine customer targeting by focusing on segments most likely to respond. This could involve creating customer profiles or personas that align with high-response segments.\n",
    "\n",
    "Implement a structured approach to contacting customers, focusing on recency and frequency without overwhelming customers. Experiment with optimal intervals between contacts, perhaps setting limits on call frequency to maintain customer receptivity.\n",
    "\n",
    "Use logistic regression or decision tree models to score customers based on their likelihood of responding. This approach enables prioritization in campaign planning, focusing on customers with high response probabilities."
   ]
  },
  {
   "cell_type": "markdown",
   "id": "388bb614-7ddf-416e-856b-3e5a027b0db0",
   "metadata": {},
   "source": [
    "# Recommendations:"
   ]
  },
  {
   "cell_type": "raw",
   "id": "ef35fa2c-3746-4420-9392-071796b26740",
   "metadata": {},
   "source": [
    "Develop campaigns that focus on high-response segments (specific job roles, education levels) and adjust messaging to resonate with these groups. For instance, a campaign could focus on job segments with more financial stability or on specific financial needs based on education.\n",
    "\n",
    "Continuously monitor the effectiveness of marketing campaigns through model evaluations and inferential statistics. Update targeting strategies based on model results and data patterns to maintain relevance and effectiveness over time."
   ]
  },
  {
   "cell_type": "code",
   "execution_count": null,
   "id": "cec297fe-9b36-426c-8b6a-58dc8ef9a932",
   "metadata": {},
   "outputs": [],
   "source": [
    "# Sumamary of descriptive statistics"
   ]
  },
  {
   "cell_type": "code",
   "execution_count": 67,
   "id": "74f8840b-37c7-4337-8de6-9131ee907790",
   "metadata": {},
   "outputs": [
    {
     "data": {
      "text/html": [
       "<div>\n",
       "<style scoped>\n",
       "    .dataframe tbody tr th:only-of-type {\n",
       "        vertical-align: middle;\n",
       "    }\n",
       "\n",
       "    .dataframe tbody tr th {\n",
       "        vertical-align: top;\n",
       "    }\n",
       "\n",
       "    .dataframe thead th {\n",
       "        text-align: right;\n",
       "    }\n",
       "</style>\n",
       "<table border=\"1\" class=\"dataframe\">\n",
       "  <thead>\n",
       "    <tr style=\"text-align: right;\">\n",
       "      <th></th>\n",
       "      <th>Mean</th>\n",
       "      <th>Median</th>\n",
       "      <th>Mode</th>\n",
       "    </tr>\n",
       "  </thead>\n",
       "  <tbody>\n",
       "    <tr>\n",
       "      <th>age</th>\n",
       "      <td>41.170095</td>\n",
       "      <td>39.0</td>\n",
       "      <td>34</td>\n",
       "    </tr>\n",
       "    <tr>\n",
       "      <th>balance</th>\n",
       "      <td>1422.657819</td>\n",
       "      <td>444.0</td>\n",
       "      <td>0</td>\n",
       "    </tr>\n",
       "    <tr>\n",
       "      <th>duration</th>\n",
       "      <td>263.961292</td>\n",
       "      <td>185.0</td>\n",
       "      <td>123</td>\n",
       "    </tr>\n",
       "    <tr>\n",
       "      <th>campaign</th>\n",
       "      <td>2.793630</td>\n",
       "      <td>2.0</td>\n",
       "      <td>1</td>\n",
       "    </tr>\n",
       "    <tr>\n",
       "      <th>pdays</th>\n",
       "      <td>39.766645</td>\n",
       "      <td>-1.0</td>\n",
       "      <td>-1</td>\n",
       "    </tr>\n",
       "    <tr>\n",
       "      <th>previous</th>\n",
       "      <td>0.542579</td>\n",
       "      <td>0.0</td>\n",
       "      <td>0</td>\n",
       "    </tr>\n",
       "  </tbody>\n",
       "</table>\n",
       "</div>"
      ],
      "text/plain": [
       "                 Mean  Median  Mode\n",
       "age         41.170095    39.0    34\n",
       "balance   1422.657819   444.0     0\n",
       "duration   263.961292   185.0   123\n",
       "campaign     2.793630     2.0     1\n",
       "pdays       39.766645    -1.0    -1\n",
       "previous     0.542579     0.0     0"
      ]
     },
     "execution_count": 67,
     "metadata": {},
     "output_type": "execute_result"
    }
   ],
   "source": [
    "# Calculate mean, median, and mode for continuous variables\n",
    "continuous_vars = ['age', 'balance', 'duration', 'campaign', 'pdays', 'previous']\n",
    "mean_values = data[continuous_vars].mean()\n",
    "median_values = data[continuous_vars].median()\n",
    "mode_values = data[continuous_vars].mode().iloc[0]\n",
    "\n",
    "# Compile results into a DataFrame\n",
    "descriptive_summary = pd.DataFrame({\n",
    "    'Mean': mean_values,\n",
    "    'Median': median_values,\n",
    "    'Mode': mode_values\n",
    "})\n",
    "\n",
    "descriptive_summary"
   ]
  },
  {
   "cell_type": "markdown",
   "id": "fc3a1116-217c-4131-a998-fe92f6437a4f",
   "metadata": {},
   "source": [
    "# Overall summary"
   ]
  },
  {
   "cell_type": "markdown",
   "id": "635a43a5-8294-4fb5-a358-868e96d46683",
   "metadata": {},
   "source": [
    "The summary indicates several key customer segments:\n",
    "\n",
    "Age and Balance. Customers span a wide age range and balance levels, with a notable segment at age 34 and zero balance. Targeted messaging could be created for different age groups and financial engagement levels.\n",
    "Contact Patterns. Most customers are new contacts, contacted once, and have brief call durations. Increasing call duration and follow-up rates selectively, particularly with those who have shown past interest, could improve campaign effectiveness."
   ]
  },
  {
   "cell_type": "code",
   "execution_count": null,
   "id": "03244a45-6e05-49c4-8daa-15d2f34c78f6",
   "metadata": {},
   "outputs": [],
   "source": []
  }
 ],
 "metadata": {
  "kernelspec": {
   "display_name": "Python 3 (ipykernel)",
   "language": "python",
   "name": "python3"
  },
  "language_info": {
   "codemirror_mode": {
    "name": "ipython",
    "version": 3
   },
   "file_extension": ".py",
   "mimetype": "text/x-python",
   "name": "python",
   "nbconvert_exporter": "python",
   "pygments_lexer": "ipython3",
   "version": "3.11.7"
  }
 },
 "nbformat": 4,
 "nbformat_minor": 5
}
